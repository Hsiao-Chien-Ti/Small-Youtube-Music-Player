{
 "cells": [
  {
   "cell_type": "code",
   "execution_count": 1,
   "metadata": {},
   "outputs": [],
   "source": [
    "import pafy,vlc\n",
    "import keyboard\n",
    "url=\"https://www.youtube.com/watch?v=6Duo89XuYIM&list=RDMMIoCoIxkGkVw&index=20\"\n",
    "video=pafy.new(url)\n",
    "best = video.getbestaudio()\n",
    "playurl = best.url\n",
    "Instance = vlc.Instance()\n",
    "player = Instance.media_player_new()\n",
    "Media = Instance.media_new(playurl)\n",
    "Media.get_mrl()\n",
    "Media.add_option('start-time=120.0')\n",
    "Media.add_option('stop-time=130.0')\n",
    "player.set_media(Media)\n",
    "player.play()\n",
    "if keyboard.read_key()=='p':\n",
    "    player.stop()"
   ]
  },
  {
   "cell_type": "markdown",
   "metadata": {},
   "source": []
  },
  {
   "cell_type": "code",
   "execution_count": null,
   "metadata": {},
   "outputs": [],
   "source": [
    "import socket\n",
    "import threading\n",
    "import pyaudio\n",
    "\n",
    "class Client:\n",
    "    def __init__(self):\n",
    "        self.s = socket.socket(socket.AF_INET, socket.SOCK_STREAM)\n",
    "        \n",
    "        while 1:\n",
    "            try:\n",
    "                self.target_ip = input('Enter IP address of server --> ')\n",
    "                self.target_port = int(input('Enter target port of server --> '))\n",
    "\n",
    "                self.s.connect((self.target_ip, self.target_port))\n",
    "\n",
    "                break\n",
    "            except:\n",
    "                print(\"Couldn't connect to server\")\n",
    "\n",
    "        chunk_size = 1024 # 512\n",
    "        audio_format = pyaudio.paInt16\n",
    "        channels = 1\n",
    "        rate = 20000\n",
    "\n",
    "        # initialise microphone recording\n",
    "        self.p = pyaudio.PyAudio()\n",
    "        self.playing_stream = self.p.open(format=audio_format, channels=channels, rate=rate, output=True, frames_per_buffer=chunk_size)\n",
    "        self.recording_stream = self.p.open(format=audio_format, channels=channels, rate=rate, input=True, frames_per_buffer=chunk_size)\n",
    "        \n",
    "        print(\"Connected to Server\")\n",
    "\n",
    "        # start threads\n",
    "        receive_thread = threading.Thread(target=self.receive_server_data).start()\n",
    "        self.send_data_to_server()\n",
    "\n",
    "    def receive_server_data(self):\n",
    "        while True:\n",
    "            try:\n",
    "                data = self.s.recv(1024)\n",
    "                self.playing_stream.write(data)\n",
    "            except:\n",
    "                pass\n",
    "\n",
    "\n",
    "    def send_data_to_server(self):\n",
    "        while True:\n",
    "            try:\n",
    "                data = self.recording_stream.read(1024)\n",
    "                self.s.sendall(data)\n",
    "            except:\n",
    "                pass\n",
    "client = Client()"
   ]
  },
  {
   "cell_type": "code",
   "execution_count": 1,
   "metadata": {},
   "outputs": [
    {
     "ename": "SystemExit",
     "evalue": "0",
     "output_type": "error",
     "traceback": [
      "An exception has occurred, use %tb to see the full traceback.\n",
      "\u001b[1;31mSystemExit\u001b[0m\u001b[1;31m:\u001b[0m 0\n"
     ]
    },
    {
     "name": "stderr",
     "output_type": "stream",
     "text": [
      "C:\\Users\\0410c\\anaconda3\\envs\\sing\\lib\\site-packages\\IPython\\core\\interactiveshell.py:3445: UserWarning: To exit: use 'exit', 'quit', or Ctrl-D.\n",
      "  warn(\"To exit: use 'exit', 'quit', or Ctrl-D.\", stacklevel=1)\n"
     ]
    }
   ],
   "source": [
    "import sys\n",
    "from PyQt6.QtWidgets import (QWidget, QToolTip,\n",
    "    QPushButton, QApplication)\n",
    "from PyQt6.QtGui import QFont\n",
    "\n",
    "\n",
    "class Example(QWidget):\n",
    "\n",
    "    def __init__(self):\n",
    "        super().__init__()\n",
    "\n",
    "        self.initUI()\n",
    "\n",
    "\n",
    "    def initUI(self):\n",
    "\n",
    "        QToolTip.setFont(QFont('SansSerif', 10))\n",
    "\n",
    "        self.setToolTip('This is a <b>QWidget</b> widget')\n",
    "\n",
    "        btn = QPushButton('Button', self)\n",
    "        btn.setToolTip('This is a <b>QPushButton</b> widget')\n",
    "        btn.resize(btn.sizeHint())\n",
    "        btn.move(50, 50)\n",
    "\n",
    "        self.setGeometry(300, 300, 300, 200)\n",
    "        self.setWindowTitle('Tooltips')\n",
    "        self.show()\n",
    "\n",
    "\n",
    "def main():\n",
    "\n",
    "    app = QApplication(sys.argv)\n",
    "    ex = Example()\n",
    "    sys.exit(app.exec())\n",
    "\n",
    "\n",
    "if __name__ == '__main__':\n",
    "    main()"
   ]
  },
  {
   "cell_type": "code",
   "execution_count": 2,
   "metadata": {},
   "outputs": [
    {
     "ename": "SystemExit",
     "evalue": "0",
     "output_type": "error",
     "traceback": [
      "An exception has occurred, use %tb to see the full traceback.\n",
      "\u001b[1;31mSystemExit\u001b[0m\u001b[1;31m:\u001b[0m 0\n"
     ]
    },
    {
     "name": "stderr",
     "output_type": "stream",
     "text": [
      "C:\\Users\\0410c\\anaconda3\\envs\\sing\\lib\\site-packages\\IPython\\core\\interactiveshell.py:3445: UserWarning: To exit: use 'exit', 'quit', or Ctrl-D.\n",
      "  warn(\"To exit: use 'exit', 'quit', or Ctrl-D.\", stacklevel=1)\n"
     ]
    }
   ],
   "source": [
    "import sys\n",
    "from PyQt6.QtWidgets import QMainWindow, QTextEdit, QApplication\n",
    "from PyQt6.QtGui import QIcon, QAction\n",
    "\n",
    "\n",
    "class Example(QMainWindow):\n",
    "\n",
    "    def __init__(self):\n",
    "        super().__init__()\n",
    "\n",
    "        self.initUI()\n",
    "\n",
    "\n",
    "    def initUI(self):\n",
    "\n",
    "        textEdit = QTextEdit()\n",
    "        self.setCentralWidget(textEdit)\n",
    "\n",
    "        exitAct = QAction(QIcon('exit24.png'), 'Exit', self)\n",
    "        exitAct.setShortcut('Ctrl+Q')\n",
    "        exitAct.setStatusTip('Exit application')\n",
    "        exitAct.triggered.connect(self.close)\n",
    "\n",
    "        self.statusBar()\n",
    "\n",
    "        menubar = self.menuBar()\n",
    "        fileMenu = menubar.addMenu('&File')\n",
    "        fileMenu.addAction(exitAct)\n",
    "\n",
    "        toolbar = self.addToolBar('Exit')\n",
    "        toolbar.addAction(exitAct)\n",
    "\n",
    "        self.setGeometry(300, 300, 350, 250)\n",
    "        self.setWindowTitle('Main window')\n",
    "        self.show()\n",
    "\n",
    "\n",
    "def main():\n",
    "\n",
    "    app = QApplication(sys.argv)\n",
    "    ex = Example()\n",
    "    sys.exit(app.exec())\n",
    "\n",
    "\n",
    "if __name__ == '__main__':\n",
    "    main()"
   ]
  }
 ],
 "metadata": {
  "interpreter": {
   "hash": "e35d7e1d87e8f0a1ee694366a888b0c92161182b1ee91bdddbe89358213e75e5"
  },
  "kernelspec": {
   "display_name": "Python 3.9.2 64-bit",
   "name": "python3"
  },
  "language_info": {
   "codemirror_mode": {
    "name": "ipython",
    "version": 3
   },
   "file_extension": ".py",
   "mimetype": "text/x-python",
   "name": "python",
   "nbconvert_exporter": "python",
   "pygments_lexer": "ipython3",
   "version": "3.8.10"
  }
 },
 "nbformat": 4,
 "nbformat_minor": 5
}